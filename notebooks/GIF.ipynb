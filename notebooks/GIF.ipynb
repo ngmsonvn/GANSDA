{
 "cells": [
  {
   "cell_type": "code",
   "execution_count": 1,
   "metadata": {},
   "outputs": [],
   "source": [
    "from PIL import Image \n",
    "import os "
   ]
  },
  {
   "cell_type": "code",
   "execution_count": 2,
   "metadata": {},
   "outputs": [],
   "source": [
    "image_folder = '/home/sonn/Sonn/Workspace/Projects/GANSpectralDataAugmentation/reports/LSTM-GAN' \n",
    "output_gif = '/home/sonn/Sonn/Workspace/Projects/GANSpectralDataAugmentation/reports/LSTM-GAN.gif' \n",
    "images = [] \n",
    " "
   ]
  },
  {
   "cell_type": "code",
   "execution_count": 3,
   "metadata": {},
   "outputs": [],
   "source": [
    "\n",
    "for filename in sorted(os.listdir(image_folder)): \n",
    "    if filename.endswith('.png') or filename.endswith('.png'): \n",
    "        file_path = os.path.join(image_folder, filename) \n",
    "        img = Image.open(file_path) \n",
    "        images.append(img) \n",
    " \n",
    "\n",
    "if images: \n",
    "    images[0].save(output_gif, save_all=True, append_images=images[1:], duration=200, loop=0) "
   ]
  }
 ],
 "metadata": {
  "kernelspec": {
   "display_name": "WSAIPython3.11",
   "language": "python",
   "name": "python3"
  },
  "language_info": {
   "codemirror_mode": {
    "name": "ipython",
    "version": 3
   },
   "file_extension": ".py",
   "mimetype": "text/x-python",
   "name": "python",
   "nbconvert_exporter": "python",
   "pygments_lexer": "ipython3",
   "version": "3.11.10"
  }
 },
 "nbformat": 4,
 "nbformat_minor": 2
}
